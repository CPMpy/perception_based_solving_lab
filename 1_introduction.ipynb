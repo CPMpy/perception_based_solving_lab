{
 "cells": [
  {
   "cell_type": "markdown",
   "metadata": {},
   "source": [
    "# Introduction\n",
    "\n",
    "To run this on your machine, make sure your environment is setup correctly (see [installation instructions](README.md))"
   ]
  },
  {
   "cell_type": "markdown",
   "metadata": {},
   "source": [
    "## Loading libraries"
   ]
  },
  {
   "cell_type": "code",
   "execution_count": null,
   "metadata": {},
   "outputs": [],
   "source": [
    "import numpy as np\n",
    "from cpmpy import *\n",
    "import os \n",
    "\n",
    "# load puzzles from data\n",
    "instances_path = os.path.join('data','visual_sudoku','label')\n",
    "sudoku_puzzles = np.asarray([np.load(os.path.join(instances_path, fname)) for fname in os.listdir(instances_path)])"
   ]
  },
  {
   "cell_type": "markdown",
   "metadata": {},
   "source": [
    "\n",
    "## A sudoku puzzle\n",
    "\n",
    "Sudoku is a logic-based number puzzle, played on a partially filled 9x9 grid. The goal is to find the unique solution by filling in the empty grid cells with numbers from 1 to 9 in such a way that each row, each column and each of the nine 3x3 subgrids contain all the numbers from 1 to 9 once and only once.\n",
    "\n",
    "We now display an example 9x9 puzzle, with some grid cells given and some empty:\n"
   ]
  },
  {
   "cell_type": "code",
   "execution_count": null,
   "metadata": {},
   "outputs": [],
   "source": [
    "instance = sudoku_puzzles[59]\n",
    "instance"
   ]
  },
  {
   "cell_type": "markdown",
   "metadata": {},
   "source": [
    "\n",
    "Note how value 0 represents the empty cells, e.g. the cells whose values are the one we seek."
   ]
  },
  {
   "cell_type": "markdown",
   "metadata": {},
   "source": [
    "## Variables and domains\n",
    "\n",
    "Let's have a look at the problem description again:\n",
    "\n",
    "- The goal is to find the unique solution by filling in the empty grid cells with numbers from 1 to 9\n",
    "\n",
    "We will model this with Integer Decision Variables with a value of at least 1 and at most 9, arranged in a matrix just like the given puzzle:"
   ]
  },
  {
   "cell_type": "markdown",
   "metadata": {},
   "source": [
    "```python\n",
    "puzzle = intvar(1, 9, shape=instance.shape, name=\"puzzle\")\n",
    "```\n"
   ]
  },
  {
   "cell_type": "markdown",
   "metadata": {},
   "source": [
    "## Modeling the constraints\n",
    "\n",
    "- each row,\n",
    "- each column and\n",
    "- each of the nine 3x3 subgrids contain all the numbers from 1 to 9 once and only once.\n",
    "\n",
    "We will use the `AllDifferent()` global constraint for this."
   ]
  },
  {
   "cell_type": "markdown",
   "metadata": {},
   "source": [
    "```python\n",
    "model = Model(\n",
    "    # Constraints on rows and columns\n",
    "    [AllDifferent(row) for row in puzzle],\n",
    "    [AllDifferent(col) for col in puzzle.T], # numpy's Transpose\n",
    ")\n",
    "\n",
    "# we extend it with the block constraints\n",
    "# Constraints on blocks\n",
    "for i in range(0,9, 3):\n",
    "    for j in range(0,9, 3):\n",
    "        model += AllDifferent(puzzle[i:i+3, j:j+3]) # python's indexing\n",
    "\n",
    "# Constraints on values (cells that are not empty)\n",
    "model += (puzzle[given!=e] == given[given!=e]) # numpy's indexing\n",
    "```"
   ]
  },
  {
   "cell_type": "markdown",
   "metadata": {},
   "source": [
    "The last constraint ensures that grid cells that are not empty (e.g. `given != e`) receive their given value."
   ]
  },
  {
   "cell_type": "code",
   "execution_count": null,
   "metadata": {},
   "outputs": [],
   "source": [
    "# let's put everything into a single function\n",
    "\n",
    "def get_sudoku_model(given):\n",
    "    e = 0 # empty cells\n",
    "\n",
    "    puzzle = intvar(1, 9, shape=instance.shape, name=\"puzzle\")\n",
    "    model = Model(\n",
    "        # Constraints on rows and columns\n",
    "        [AllDifferent(row) for row in puzzle],\n",
    "        [AllDifferent(col) for col in puzzle.T], # numpy's Transpose\n",
    "    )\n",
    "\n",
    "    # we extend it with the block constraints\n",
    "    # Constraints on blocks\n",
    "    for i in range(0,9, 3):\n",
    "        for j in range(0,9, 3):\n",
    "            model += AllDifferent(puzzle[i:i+3, j:j+3]) # python's indexing\n",
    "\n",
    "    # Constraints on values (cells that are not empty)\n",
    "    model += (puzzle[given!=e] == given[given!=e]) # numpy's indexing\n",
    "    return model, puzzle"
   ]
  },
  {
   "cell_type": "markdown",
   "metadata": {},
   "source": [
    "## Solving\n",
    "\n",
    "With the data, variables and constraints set, we can now combine these in a CP model, and use a solver to solve it:"
   ]
  },
  {
   "cell_type": "code",
   "execution_count": null,
   "metadata": {},
   "outputs": [],
   "source": [
    "# Solve and print\n",
    "model, puzzle = get_sudoku_model(instance)\n",
    "if model.solve():\n",
    "    print(puzzle.value())\n",
    "else:\n",
    "    print(\"No solution found\")"
   ]
  },
  {
   "cell_type": "markdown",
   "metadata": {},
   "source": [
    "or display more nicely using some Python libraries"
   ]
  },
  {
   "cell_type": "code",
   "execution_count": null,
   "metadata": {},
   "outputs": [],
   "source": [
    "import matplotlib.pyplot as plt\n",
    "import seaborn as sns\n",
    "import math\n",
    "\n",
    "# matplotlib/seaborn graphical visualisation\n",
    "def visu_sudoku(grid, figsize=(6,6)):\n",
    "    N = int(math.sqrt(grid.shape[0]))\n",
    "\n",
    "    # block-by-block alternation\n",
    "    bg = np.zeros(grid.shape)\n",
    "    for i in range(0,9, 3):\n",
    "        for j in range(0,9, 3):\n",
    "            if (i+j) % 2:\n",
    "                bg[i:i+3, j:j+3] = 1\n",
    "        \n",
    "    # the figure\n",
    "    fig, ax = plt.subplots(1, 1, figsize=figsize)\n",
    "    sns.set(font_scale=2)\n",
    "    sns.heatmap(bg, annot=grid,\n",
    "                cbar=False, linewidths=1, xticklabels=False, yticklabels=False)\n",
    "    \n",
    "    plt.title(f\"Sudoku {grid.shape[0]}x{grid.shape[1]}\", fontsize=15)\n",
    "    plt.show()\n",
    "\n",
    "\n",
    "visu_sudoku(puzzle.value())"
   ]
  },
  {
   "cell_type": "markdown",
   "metadata": {},
   "source": [
    "## Hyperparameter search \n",
    "\n",
    "CPMpy connects with [many solvers](https://cpmpy.readthedocs.io/en/latest/api/solvers.html) through their Python API interface. Those APIs typically expose many parameters that changes the solver's behaviour during search. Carefully tuning these parameters may reduce runtime. This is very welcomed in our setting where we expect to solve a combinatorial problem repeatedly. "
   ]
  },
  {
   "cell_type": "markdown",
   "metadata": {},
   "source": [
    "Using OR-Tools CP-SAT solver, the following block shows how to fine-tune some hyperparameters (more available [here](https://cpmpy.readthedocs.io/en/latest/api/solvers/ortools.html#module-cpmpy.solvers.ortools)) on **our sudoku example from above.**"
   ]
  },
  {
   "cell_type": "code",
   "execution_count": null,
   "metadata": {},
   "outputs": [],
   "source": [
    "from cpmpy.tools import ParameterTuner\n",
    "\n",
    "tunables = {\n",
    "    \"search_branching\":[0,1,2],\n",
    "    \"linearization_level\":[0,1],\n",
    "    'symmetry_level': [0,1,2]}\n",
    "defaults = {\n",
    "    \"search_branching\": 0,\n",
    "    \"linearization_level\": 1,\n",
    "    'symmetry_level': 2\n",
    "}\n",
    "\n",
    "tuner = ParameterTuner(\"ortools\", model, tunables, defaults)\n",
    "best_params = tuner.tune(max_tries=100)\n",
    "best_runtime = tuner.best_runtime\n",
    "print(f\"Fastest in {best_runtime:.4f} seconds, config:\", best_params)\n",
    "\n",
    "print(f'Comparing with default {tuner.base_runtime:.4f} seconds, config: ', defaults)"
   ]
  },
  {
   "cell_type": "markdown",
   "metadata": {},
   "source": [
    "## Exploratory Data Analysis (part 1)\n",
    "\n",
    "The dataset used in this tutorial contains 103 Sudoku problems. Having more starting clues generally tends to corrolate with the puzzle's relative level of difficulty. \n",
    "To gain further insights into the dataset, we will now visualize the distribution of hardness. \n"
   ]
  },
  {
   "cell_type": "code",
   "execution_count": null,
   "metadata": {},
   "outputs": [],
   "source": [
    "# count non-empty cells for each puzzle\n",
    "counts_non_empty = (sudoku_puzzles.reshape(-1,81) > 0).sum(-1)\n",
    "\n",
    "# let's plot this \n",
    "f, ax = plt.subplots()\n",
    "sns.histplot(counts_non_empty, binwidth=3, ax=ax)\n",
    "ax.set_xticks(np.arange(15,85,10))\n",
    "ax.set_xlabel('number of starting clues')\n",
    "print()"
   ]
  },
  {
   "cell_type": "markdown",
   "metadata": {},
   "source": [
    "From the plot, most instances are in the 25-30 range of medium puzzles, then we have fewer rather easy (35+ starting clues) problems. \n",
    "The dataset also contains almost 30 fully completed instances. Solving them amount to checking their feasibility. "
   ]
  },
  {
   "cell_type": "code",
   "execution_count": null,
   "metadata": {},
   "outputs": [],
   "source": [
    "from cpmpy.solvers import CPM_ortools\n",
    "\n",
    "def solve_instances(array_puzzle, solver_params=dict()):\n",
    "    runtimes = []\n",
    "    for given in array_puzzle:\n",
    "        model, puzzle = get_sudoku_model(given)\n",
    "        s = CPM_ortools(model)\n",
    "        # Solve and print\n",
    "        s.solve(**solver_params)\n",
    "        runtimes.append(s.status().runtime)\n",
    "    return runtimes\n",
    "\n",
    "runtimes = solve_instances(sudoku_puzzles)\n",
    "print(f'Total runtime: {sum(runtimes):.4f} seconds, avg: {np.mean(runtimes)} s')"
   ]
  },
  {
   "cell_type": "markdown",
   "metadata": {},
   "source": [
    "**Task: try out different hyperparameters to fine tune on our Sudoku example. Can you improve the total solve runtime on the whole dataset?**"
   ]
  }
 ],
 "metadata": {
  "kernelspec": {
   "display_name": "ml4cp",
   "language": "python",
   "name": "python3"
  },
  "language_info": {
   "codemirror_mode": {
    "name": "ipython",
    "version": 3
   },
   "file_extension": ".py",
   "mimetype": "text/x-python",
   "name": "python",
   "nbconvert_exporter": "python",
   "pygments_lexer": "ipython3",
   "version": "3.9.17"
  },
  "orig_nbformat": 4
 },
 "nbformat": 4,
 "nbformat_minor": 2
}
