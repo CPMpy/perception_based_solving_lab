{
 "cells": [
  {
   "cell_type": "markdown",
   "metadata": {},
   "source": [
    "# This notebook checks that everything needed is installed, and extracts the data\n",
    "\n",
    "## Check that all required packages are installed\n",
    "All required packages are listed in the [requirements.txt](../../requirements.txt) file. "
   ]
  },
  {
   "cell_type": "code",
   "execution_count": null,
   "metadata": {
    "vscode": {
     "languageId": "shellscript"
    }
   },
   "outputs": [],
   "source": [
    "!pip3 install -r requirements.txt --quiet"
   ]
  },
  {
   "cell_type": "markdown",
   "metadata": {},
   "source": [
    "## Check that all packages import without error"
   ]
  },
  {
   "cell_type": "code",
   "execution_count": null,
   "metadata": {},
   "outputs": [],
   "source": [
    "%matplotlib inline\n",
    "%config InlineBackend.figure_format = 'retina'\n",
    "\n",
    "import matplotlib.pyplot as plt \n",
    "import seaborn as sns  \n",
    "import numpy as np \n",
    "import os \n",
    "from pathlib import Path\n",
    "from PIL import Image\n",
    "import cpmpy as cp\n",
    "import torch\n",
    "from torchvision.io import read_image\n",
    "import torchvision.transforms as T\n"
   ]
  },
  {
   "cell_type": "markdown",
   "metadata": {},
   "source": [
    "## Download and extract dataset"
   ]
  },
  {
   "cell_type": "code",
   "execution_count": null,
   "metadata": {
    "vscode": {
     "languageId": "shellscript"
    }
   },
   "outputs": [],
   "source": [
    "# download data\n",
    "import requests\n",
    "import zipfile\n",
    "\n",
    "data_dir = 'data'\n",
    "vizsudoku_zip = os.path.join(data_dir, 'visual_sudoku.zip')\n",
    "if not os.path.exists(vizsudoku_zip) and not os.path.islink(vizsudoku_zip):\n",
    "    # Download data from tutorial repo\n",
    "    with open(vizsudoku_zip, 'wb') as handle:\n",
    "        response = requests.get('https://github.com/CryoCardiogram/perception_based_solving_lab/blob/main/data/visual_sudoku.zip', stream=True)\n",
    "        if response.ok: \n",
    "            print('successfully downloaded data')\n",
    "        else:\n",
    "            print(response)\n",
    "        for block in response.iter_content(4096):\n",
    "            if not block:\n",
    "                break \n",
    "            handle.write(block)\n",
    "\n",
    "print('unzipping data...')\n",
    "# Extract data\n",
    "with zipfile.ZipFile(vizsudoku_zip, 'r') as zip_ref:\n",
    "    zip_ref.extractall(path=data_dir)\n",
    "    print(f\"Extracted {vizsudoku_zip} into folder '{data_dir}'\")"
   ]
  },
  {
   "cell_type": "markdown",
   "metadata": {},
   "source": [
    "## Check data folder\n",
    "If you see a well-centered picture of a sudoku with a handwritten '4' in the lower-left, all is fine!"
   ]
  },
  {
   "cell_type": "code",
   "execution_count": null,
   "metadata": {},
   "outputs": [],
   "source": [
    "see_torch_img = T.ToPILImage()\n",
    "datadir = Path('data/visual_sudoku/')\n",
    "sample_id = '059'\n",
    "img = read_image(str(datadir / 'img' / f'{sample_id}.jpg'))\n",
    "label = np.load(datadir / 'label' / f'{sample_id}.npy').astype(int)\n",
    "\n",
    "see_torch_img(img)"
   ]
  },
  {
   "cell_type": "markdown",
   "metadata": {},
   "source": [
    "## Check pytorch and torchvision\n",
    "\n",
    "If it reports `torch.Size([10, 5])` all is fine"
   ]
  },
  {
   "cell_type": "code",
   "execution_count": null,
   "metadata": {},
   "outputs": [],
   "source": [
    "# dummy Neural network\n",
    "dnn = torch.nn.Sequential(\n",
    "    torch.nn.Linear(100, 5),\n",
    "    torch.nn.Softmax(-1)\n",
    ")\n",
    "\n",
    "x = torch.randn(10,100)\n",
    "output = dnn(x)\n",
    "output.shape"
   ]
  },
  {
   "cell_type": "markdown",
   "metadata": {},
   "source": [
    "## Check CPMpy\n",
    "A trivial CP problem, if it prints `x = 3` all is fine"
   ]
  },
  {
   "cell_type": "code",
   "execution_count": null,
   "metadata": {},
   "outputs": [],
   "source": [
    "x = cp.intvar(1,3, name=\"x\") # x \\in {1,2,3}\n",
    "csp = cp.Model([\n",
    "    x > 1,\n",
    "    x != 2,\n",
    "])\n",
    "\n",
    "if csp.solve():\n",
    "    print(\"x =\",x.value())\n",
    "else:\n",
    "    print(\"CSP infeasible\")"
   ]
  },
  {
   "cell_type": "code",
   "execution_count": null,
   "metadata": {},
   "outputs": [],
   "source": []
  }
 ],
 "metadata": {
  "kernelspec": {
   "display_name": "Python 3 (ipykernel)",
   "language": "python",
   "name": "python3"
  },
  "language_info": {
   "codemirror_mode": {
    "name": "ipython",
    "version": 3
   },
   "file_extension": ".py",
   "mimetype": "text/x-python",
   "name": "python",
   "nbconvert_exporter": "python",
   "pygments_lexer": "ipython3",
   "version": "3.8.17"
  }
 },
 "nbformat": 4,
 "nbformat_minor": 2
}
